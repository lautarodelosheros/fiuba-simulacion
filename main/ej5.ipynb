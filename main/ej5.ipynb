{
 "cells": [
  {
   "cell_type": "code",
   "execution_count": 3,
   "metadata": {},
   "outputs": [
    {
     "data": {
      "image/png": "[encoded data removed]",
      "text/plain": [
       "<Figure size 432x288 with 1 Axes>"
      ]
     },
     "metadata": {
      "needs_background": "light"
     },
     "output_type": "display_data"
    }
   ],
   "source": [
    "# Aplicar un gap test al generador congruencial lineal implementado en el ejercicio 1\n",
    "# utilizando el intervalo [0,2 - 0,5]. Analizar el resultado obtenido, e indicar si la\n",
    "# distribución de probabilidades pasa o no el test. Considerar un nivel de significación del 1%.\n",
    "from gcl import GCL\n",
    "import numpy\n",
    "import matplotlib.pyplot as plt\n",
    "import math\n",
    "\n",
    "\n",
    "a = 0.2\n",
    "b = 0.5\n",
    "\n",
    "gcl = GCL(97293, 1013904223, 1664525, 2**32)\n",
    "\n",
    "numero_gaps = 10000\n",
    "gap = [0] * numero_gaps\n",
    "\n",
    "while not (a < gcl.random() < b):\n",
    "    continue\n",
    "\n",
    "n = 0\n",
    "longitud = 0\n",
    "while n < numero_gaps:\n",
    "    if a < gcl.random() < b:\n",
    "        gap[n] = longitud\n",
    "        n += 1\n",
    "        longitud = 0\n",
    "    else:\n",
    "        longitud += 1\n",
    "    \n",
    "bins = numpy.arange(0, max(gap) + 1.5) - 0.5\n",
    "\n",
    "fig, ax = plt.subplots()\n",
    "(hist, _, _) = ax.hist(gap, bins)\n",
    "ax.set_xticks(bins + 0.5)\n",
    "plt.show()"
   ]
  },
  {
   "cell_type": "code",
   "execution_count": 4,
   "metadata": {},
   "outputs": [
    {
     "name": "stdout",
     "output_type": "stream",
     "text": [
      "[0.17633333333333334, 2.8971428571428572, 0.06802721088434757, 0.06219630709426276, 0.07398306261279701, 0.3460940877808751, 0.40439728627809857, 0.003554383964570326, 1.861805883908777, 0.6781589329717154, 5.845857088232684, 0.007799569567467871, 0.00660899464798009, 0.00015307227927413323, 0.005907371594867155, 1.2638328105878744, 0.10643548476351139, 0.13731007486763094, 0.16041200341478812, 0.05150256339328015, 5.4328194619645975, 0.2724253491163671, 0.02550025295563401, 0.03899661788919664, 0.5747436941416983, 6.344640567015683, 0.2816244101294322, 0.19713708709060251, 5.384584868482735, 8.448867040559126]\n",
      "D2 = 41.158851728666065\n",
      "limite superior = 49.58788447289881\n",
      "No hay evidencia para rechazar la hipótesis nula, el generador pasa el test.\n"
     ]
    }
   ],
   "source": [
    "from scipy.stats import chi2\n",
    "\n",
    "limite_superior = chi2.ppf(0.99, df=len(hist) - 1)\n",
    "\n",
    "D2_list = [0] * len(hist)\n",
    "p = b - a\n",
    "for i in range(len(hist)):\n",
    "    D2_list[i] = (hist[i] - (1 - p)**i * p * numero_gaps)**2 / ((1 - p)**i * p * numero_gaps)\n",
    "    \n",
    "print(D2_list)\n",
    "D2 = sum(D2_list)\n",
    "\n",
    "print('D2 = {}'.format(D2))\n",
    "print('limite superior = {}'.format(limite_superior))\n",
    "if D2 <= limite_superior:\n",
    "    print(\"No hay evidencia para rechazar la hipótesis nula, el generador pasa el test.\")\n",
    "else:\n",
    "    print(\"Hay evidencia para rechazar la hipótesis nula, el generador no pasa el test.\")"
   ]
  },
  {
   "cell_type": "code",
   "execution_count": null,
   "metadata": {},
   "outputs": [],
   "source": []
  },
  {
   "cell_type": "code",
   "execution_count": null,
   "metadata": {},
   "outputs": [],
   "source": []
  }
 ],
 "metadata": {
  "kernelspec": {
   "display_name": "Python 3",
   "language": "python",
   "name": "python3"
  },
  "language_info": {
   "codemirror_mode": {
    "name": "ipython",
    "version": 3
   },
   "file_extension": ".py",
   "mimetype": "text/x-python",
   "name": "python",
   "nbconvert_exporter": "python",
   "pygments_lexer": "ipython3",
   "version": "3.7.3"
  }
 },
 "nbformat": 4,
 "nbformat_minor": 4
}
