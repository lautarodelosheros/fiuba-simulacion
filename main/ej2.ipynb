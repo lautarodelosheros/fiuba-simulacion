{
 "cells": [
  {
   "cell_type": "code",
   "execution_count": 2,
   "metadata": {},
   "outputs": [
    {
     "data": {
      "image/png": "[encoded data removed]",
      "text/plain": [
       "<Figure size 432x288 with 1 Axes>"
      ]
     },
     "metadata": {
      "needs_background": "light"
     },
     "output_type": "display_data"
    }
   ],
   "source": [
    "from gcl import GCL\n",
    "import numpy\n",
    "import matplotlib.pyplot as plt\n",
    "import math\n",
    "\n",
    "\n",
    "class Dado:\n",
    "   def __init__(self, generador, caras = 6):\n",
    "       self.caras = caras\n",
    "       self.generador = generador\n",
    "\n",
    "   def lanzar(self):\n",
    "       return math.ceil(self.generador.random() * self.caras)\n",
    "\n",
    "   def lanzarTantoComo(self, n):\n",
    "       lanzamientos = []\n",
    "       for _ in range(n):\n",
    "           lanzamientos.append(self.lanzar())\n",
    "       return lanzamientos\n",
    "\n",
    "\n",
    "gcl = GCL(97293, 1013904223, 1664525, 2**32)\n",
    "dado = Dado(gcl)\n",
    "\n",
    "suma = []\n",
    "for _ in range(10000):\n",
    "  suma.append(dado.lanzar() + dado.lanzar())\n",
    "\n",
    "bins = numpy.arange(0, max(suma) + 1.5) - 0.5\n",
    "\n",
    "fig, ax = plt.subplots()\n",
    "_ = ax.hist(suma, bins)\n",
    "ax.set_xticks(bins + 0.5)\n",
    "plt.show()"
   ]
  },
  {
   "cell_type": "code",
   "execution_count": null,
   "metadata": {},
   "outputs": [],
   "source": []
  }
 ],
 "metadata": {
  "kernelspec": {
   "display_name": "Python 3",
   "language": "python",
   "name": "python3"
  },
  "language_info": {
   "codemirror_mode": {
    "name": "ipython",
    "version": 3
   },
   "file_extension": ".py",
   "mimetype": "text/x-python",
   "name": "python",
   "nbconvert_exporter": "python",
   "pygments_lexer": "ipython3",
   "version": "3.7.3"
  }
 },
 "nbformat": 4,
 "nbformat_minor": 4
}
