{
 "cells": [
  {
   "cell_type": "code",
   "execution_count": 2,
   "metadata": {},
   "outputs": [
    {
     "name": "stdout",
     "output_type": "stream",
     "text": [
      "[3271345632, 3522851885, 531052992, 1266226253, 3043165600, 955210861, 2558404992, 760171661, 113681760, 2718622893]\n"
     ]
    }
   ],
   "source": [
    "class GCL:\n",
    "   def __init__(self, x0, a, c, m):\n",
    "       self.xn = x0\n",
    "       self.a = a\n",
    "       self.c = c\n",
    "       self.m = m\n",
    "\n",
    "   def random(self):\n",
    "       self.xn = (self.a * self.xn + self.c) % self.m\n",
    "       return self.xn\n",
    "\n",
    "   def randomArray(self, n):\n",
    "       numeros = []\n",
    "       for _ in range(n):\n",
    "           numeros.append(self.random())\n",
    "       return numeros\n",
    "\n",
    "\n",
    "gcl = GCL(97293, 1013904223, 1664525, 2**32)\n",
    "\n",
    "numeros = gcl.randomArray(10)\n",
    "print(numeros)"
   ]
  },
  {
   "cell_type": "code",
   "execution_count": 4,
   "metadata": {},
   "outputs": [
    {
     "name": "stdout",
     "output_type": "stream",
     "text": [
      "[0.7616695091128349, 0.8202278718817979, 0.12364540994167328, 0.29481627349741757, 0.7085422053933144, 0.222402359591797, 0.5956750810146332, 0.17699125711806118, 0.02646859735250473, 0.6329787180293351]\n"
     ]
    }
   ],
   "source": [
    "class GCL:\n",
    "   def __init__(self, x0, a, c, m):\n",
    "       self.xn = x0\n",
    "       self.a = a\n",
    "       self.c = c\n",
    "       self.m = m\n",
    "\n",
    "   def random(self):\n",
    "       self.xn = ((self.a * self.xn) + self.c) % self.m\n",
    "       return self.xn / float(self.m)\n",
    "\n",
    "   def randomArray(self, n):\n",
    "       numeros = []\n",
    "       for _ in range(n):\n",
    "           numeros.append(self.random())\n",
    "       return numeros\n",
    "\n",
    "\n",
    "gcl = GCL(97293, 1013904223, 1664525, 2**32)\n",
    "\n",
    "numeros = gcl.randomArray(10)\n",
    "print(numeros)"
   ]
  },
  {
   "cell_type": "code",
   "execution_count": 7,
   "metadata": {},
   "outputs": [
    {
     "data": {
      "image/png": "[encoded data removed]",
      "text/plain": [
       "<Figure size 432x288 with 1 Axes>"
      ]
     },
     "metadata": {
      "needs_background": "light"
     },
     "output_type": "display_data"
    }
   ],
   "source": [
    "import matplotlib.pyplot as plt\n",
    "\n",
    "\n",
    "numeros = gcl.randomArray(100000)\n",
    "plt.hist(numeros, bins=10)\n",
    "plt.show()"
   ]
  },
  {
   "cell_type": "code",
   "execution_count": null,
   "metadata": {},
   "outputs": [],
   "source": []
  }
 ],
 "metadata": {
  "kernelspec": {
   "display_name": "Python 3",
   "language": "python",
   "name": "python3"
  },
  "language_info": {
   "codemirror_mode": {
    "name": "ipython",
    "version": 3
   },
   "file_extension": ".py",
   "mimetype": "text/x-python",
   "name": "python",
   "nbconvert_exporter": "python",
   "pygments_lexer": "ipython3",
   "version": "3.7.3"
  }
 },
 "nbformat": 4,
 "nbformat_minor": 4
}
