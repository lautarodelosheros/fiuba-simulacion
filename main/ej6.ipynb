{
 "cells": [
  {
   "cell_type": "code",
   "execution_count": 5,
   "metadata": {},
   "outputs": [
    {
     "name": "stdout",
     "output_type": "stream",
     "text": [
      "7.947079999999992\n"
     ]
    }
   ],
   "source": [
    "from scipy.stats import chi2\n",
    "\n",
    "\n",
    "f = [280, 553, 825, 1044, 1440, 1652, 1427, 1118, 847, 544, 270]\n",
    "lanzamientos = 10000\n",
    "\n",
    "D2_list = [0] * 11\n",
    "for i in range(1, 7):\n",
    "    D2_list[i-1] = (f[i-1] - i/36 * lanzamientos)**2 / (i/36 * lanzamientos)\n",
    "\n",
    "for i in range(1, 6):\n",
    "    D2_list[5+i] = (f[5+i] - (6-i)/36 * lanzamientos)**2 / ((6-i)/36 * lanzamientos)\n",
    "\n",
    "D2 = sum(D2_list) # D2 = 7.947079999999992\n",
    "\n",
    "print(D2)"
   ]
  },
  {
   "cell_type": "code",
   "execution_count": 19,
   "metadata": {},
   "outputs": [
    {
     "name": "stdout",
     "output_type": "stream",
     "text": [
      "15.987179172105265\n"
     ]
    }
   ],
   "source": [
    "limiteSuperior = chi2.ppf(0.9, df=10)\n",
    "\n",
    "print(limiteSuperior)"
   ]
  },
  {
   "cell_type": "code",
   "execution_count": 20,
   "metadata": {},
   "outputs": [
    {
     "name": "stdout",
     "output_type": "stream",
     "text": [
      "El test acepta la hipótesis nula.\n"
     ]
    }
   ],
   "source": [
    "if D2 <= limiteSuperior:\n",
    "    print(\"El test acepta la hipótesis nula.\")\n",
    "else:\n",
    "    print(\"El test rechaza la hipótesis nula\")"
   ]
  },
  {
   "cell_type": "code",
   "execution_count": null,
   "metadata": {},
   "outputs": [],
   "source": []
  }
 ],
 "metadata": {
  "kernelspec": {
   "display_name": "Python 3",
   "language": "python",
   "name": "python3"
  },
  "language_info": {
   "codemirror_mode": {
    "name": "ipython",
    "version": 3
   },
   "file_extension": ".py",
   "mimetype": "text/x-python",
   "name": "python",
   "nbconvert_exporter": "python",
   "pygments_lexer": "ipython3",
   "version": "3.7.3"
  }
 },
 "nbformat": 4,
 "nbformat_minor": 4
}
