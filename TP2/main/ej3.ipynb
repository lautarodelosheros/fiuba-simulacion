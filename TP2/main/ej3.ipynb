{
 "cells": [
  {
   "cell_type": "code",
   "execution_count": 14,
   "metadata": {
    "collapsed": true,
    "pycharm": {
     "is_executing": false
    }
   },
   "outputs": [],
   "source": [
    "import csv\n",
    "\n",
    "UP = \"UP\"\n",
    "DOWN = \"DOWN\"\n",
    "\n",
    "\n",
    "def calculate_tendency(old_value, new_value):\n",
    "    if old_value <= new_value:\n",
    "        return UP\n",
    "    return DOWN\n",
    "\n",
    "def process_stocks_file(file = '../accion A.csv'):\n",
    "    states = {\n",
    "        'UP': {\n",
    "            'UP': 0,\n",
    "            'DOWN': 0,\n",
    "        },\n",
    "        'DOWN':{\n",
    "            'DOWN': 0,\n",
    "            'UP': 0\n",
    "        }\n",
    "    }\n",
    "    csv_file = open(file)\n",
    "        \n",
    "    csv_reader = csv.reader(csv_file, delimiter=',')\n",
    "    lines = list(map(lambda x: [x[0], float(x[1])], list(csv_reader)))\n",
    "    csv_file.close()\n",
    "\n",
    "    up_count = 0\n",
    "    down_count = 0\n",
    "    \n",
    "    old_value = lines[0][1]\n",
    "    new_value = lines[1][1]\n",
    "    old_state = calculate_tendency(old_value, new_value)\n",
    "    for i in range(1, len(lines)):\n",
    "        old_value = lines[i - 1][1]\n",
    "        new_value = lines[i][1]\n",
    "        new_state = calculate_tendency(old_value, new_value)\n",
    "        if new_state == UP:\n",
    "            up_count += 1\n",
    "        else:\n",
    "            down_count += 1\n",
    "        states[old_state][new_state] += 1\n",
    "        old_state = new_state\n",
    "    \n",
    "    count = len(lines) - 1\n",
    "    \n",
    "    probabilities = {\n",
    "        'UP': {\n",
    "            'UP': states['UP']['UP']/up_count,\n",
    "            'DOWN': states['UP']['DOWN']/up_count,\n",
    "            'total': states['UP']['UP']/count + states['UP']['DOWN']/count \n",
    "        },\n",
    "        'DOWN':{\n",
    "            'DOWN': states['DOWN']['DOWN']/down_count,\n",
    "            'UP': states['DOWN']['UP']/down_count,\n",
    "            'total': states['DOWN']['UP']/count + states['DOWN']['DOWN']/count\n",
    "        }\n",
    "    }\n",
    "    \n",
    "    return probabilities"
   ]
  },
  {
   "cell_type": "code",
   "execution_count": 15,
   "outputs": [
    {
     "name": "stdout",
     "text": [
      "{'UP': {'UP': 0.4434389140271493, 'DOWN': 0.5565610859728507, 'total': 0.5145518044237486}, 'DOWN': {'DOWN': 0.41007194244604317, 'UP': 0.5899280575539568, 'total': 0.48544819557625146}}\n"
     ],
     "output_type": "stream"
    }
   ],
   "source": [
    "\n",
    "action_a_probabilities = process_stocks_file('../accion A.csv')\n",
    "print(action_a_probabilities)"
   ],
   "metadata": {
    "collapsed": false,
    "pycharm": {
     "name": "#%%\n",
     "is_executing": false
    }
   }
  },
  {
   "cell_type": "code",
   "execution_count": 16,
   "outputs": [
    {
     "name": "stdout",
     "text": [
      "{'UP': {'UP': 0.324582338902148, 'DOWN': 0.6778042959427207, 'total': 0.48894062863795107}, 'DOWN': {'DOWN': 0.35454545454545455, 'UP': 0.6431818181818182, 'total': 0.5110593713620488}}\n"
     ],
     "output_type": "stream"
    }
   ],
   "source": [
    "action_b_probabilities = process_stocks_file('../accion B.csv')\n",
    "print(action_b_probabilities)"
   ],
   "metadata": {
    "collapsed": false,
    "pycharm": {
     "name": "#%%\n",
     "is_executing": false
    }
   }
  },
  {
   "cell_type": "code",
   "execution_count": 17,
   "outputs": [],
   "source": [
    "import random\n",
    "\n",
    "CHANGE_SENSITIVITY = 1.1\n",
    "def change_value(value, direction):\n",
    "    if direction == UP:\n",
    "        return value * CHANGE_SENSITIVITY\n",
    "    return value / CHANGE_SENSITIVITY\n",
    "\n",
    "def simulate_year(initial_state, probabilities):\n",
    "    new_values = []\n",
    "    previous_value = initial_state\n",
    "    previous_tendency = None\n",
    "\n",
    "    up_choices = [UP] * int(probabilities['UP']['UP'] * 10000) + [DOWN] * int(probabilities['UP']['DOWN'] * 10000)\n",
    "    down_choices = [UP] * int(probabilities['DOWN']['UP'] * 10000) + [DOWN] * int(probabilities['DOWN']['DOWN'] * 10000)\n",
    "\n",
    "    value = initial_state\n",
    "    for i in range(365):\n",
    "        next_direction = None\n",
    "\n",
    "        if previous_tendency is None:\n",
    "            choices = [UP] * int(probabilities['UP']['total'] * 10000) + [DOWN] * int(probabilities['DOWN']['total'] * 10000)\n",
    "            next_direction = random.choice(choices)\n",
    "        elif previous_tendency == UP:\n",
    "            next_direction = random.choice(up_choices)\n",
    "        elif previous_tendency == DOWN:\n",
    "            next_direction = random.choice(down_choices)\n",
    "\n",
    "        new_value = change_value(value, next_direction)\n",
    "        previous_tendency = calculate_tendency(value, new_value)\n",
    "        value = new_value\n",
    "        new_values.append(new_value)\n",
    "\n",
    "\n",
    "            \n",
    "    return new_values\n",
    "            \n",
    "        \n",
    "        "
   ],
   "metadata": {
    "collapsed": false,
    "pycharm": {
     "name": "#%%\n",
     "is_executing": false
    }
   }
  },
  {
   "cell_type": "code",
   "execution_count": 18,
   "outputs": [
    {
     "name": "stdout",
     "text": [
      "a_results 146.07957535283208\n"
     ],
     "output_type": "stream"
    }
   ],
   "source": [
    "import statistics\n",
    "\n",
    "results = [] \n",
    "for i in range(10000):\n",
    "    a_year_results = simulate_year(51.20, action_a_probabilities)\n",
    "    results.append(a_year_results[-1])\n",
    "\n",
    "print('a_results', statistics.median(results))"
   ],
   "metadata": {
    "collapsed": false,
    "pycharm": {
     "name": "#%%\n",
     "is_executing": false
    }
   }
  },
  {
   "cell_type": "code",
   "execution_count": 19,
   "outputs": [
    {
     "name": "stdout",
     "text": [
      "a_results 21.713798060671216\n"
     ],
     "output_type": "stream"
    }
   ],
   "source": [
    "import statistics\n",
    "\n",
    "results = [] \n",
    "for i in range(10000):\n",
    "    b_year_results = simulate_year(51.20, action_b_probabilities)\n",
    "    results.append(b_year_results[-1])    \n",
    "print('b_results', statistics.median(results))"
   ],
   "metadata": {
    "collapsed": false,
    "pycharm": {
     "name": "#%%\n",
     "is_executing": false
    }
   }
  }
 ],
 "metadata": {
  "language_info": {
   "codemirror_mode": {
    "name": "ipython",
    "version": 2
   },
   "file_extension": ".py",
   "mimetype": "text/x-python",
   "name": "python",
   "nbconvert_exporter": "python",
   "pygments_lexer": "ipython2",
   "version": "2.7.6"
  },
  "kernelspec": {
   "name": "python3",
   "language": "python",
   "display_name": "Python 3"
  },
  "pycharm": {
   "stem_cell": {
    "cell_type": "raw",
    "source": [],
    "metadata": {
     "collapsed": false
    }
   }
  }
 },
 "nbformat": 4,
 "nbformat_minor": 0
}