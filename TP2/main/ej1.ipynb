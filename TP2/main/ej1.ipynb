{
 "cells": [
  {
   "cell_type": "code",
   "execution_count": 46,
   "metadata": {},
   "outputs": [
    {
     "name": "stdout",
     "output_type": "stream",
     "text": [
      "Tiempo medio de espera:  0.09528566731850507\n",
      "Fracción de solicitudes que no esperaron para ser procesadas:  89.63499999999999 %\n",
      "Tiempo medio en resolver un diagnóstico:  0.9155203918551819\n",
      "Tiempo total:  399871.7959294034\n"
     ]
    },
    {
     "data": {
      "image/png": "[encoded data removed]",
      "text/plain": [
       "<Figure size 432x288 with 1 Axes>"
      ]
     },
     "metadata": {
      "needs_background": "light"
     },
     "output_type": "display_data"
    }
   ],
   "source": [
    "#Un instituto de investigación debe decidir la inversión a realizar en equipos de diagnóstico de una nueva enfermedad.\n",
    "#Se debe decidir la compra de equipos entre las opciones brindadas por 2 proveedores:\n",
    "#El proveedor 1 plantea utilizar 2 unidades de diagnóstico en paralelo. Con probabilidad 𝑝 = 0.6 las muestras serán\n",
    "#diagnosticados por la unidad 1 y con probabilidad 𝑞 = 1 − 𝑝 son diagnosticados por la unidad 2. El tiempo que demora\n",
    "#cada unidad en resolver una solicitud sigue una distribución exponencial con medias, 𝜇1 = 0,7 hrs y 𝜇2 = 1 hr\n",
    "#respectivamente.\n",
    "#El proveedor 2 considera utilizar 1 unidad. En este caso la demora en resolver una solicitud sigue una distribución\n",
    "#exponencial con 𝜇 = 0,8 horas.\n",
    "#Se estima que el tiempo que transcurre entre la llegada de cada muestra se puede modelar según una distribución\n",
    "#exponencial con media 𝜇 = 4 horas\n",
    "#Simular para cada opción 100.000 solicitudes procesadas, determinando:\n",
    "#El tiempo medio de espera entre que la solicitud llega y puede ser procesada.\n",
    "#La fracción de las solicitudes que no esperaron para ser procesadas.\n",
    "#La opción 1 es más costosa que la segunda opción y el instituto sólo acepta realizar la inversión si el tiempo\n",
    "#medio que demora en resolver cada diagnóstico (tiempo en fila + tiempo de procesamiento) es como mínimo 50% menor\n",
    "#que la opción 2. ¿Qué solución le recomienda?\n",
    "\n",
    "\n",
    "import numpy as np\n",
    "import matplotlib.pyplot as plt\n",
    "\n",
    "np.random.seed(0)\n",
    "\n",
    "#PROVEEDOR 1\n",
    "\n",
    "numero_solicitudes = 100000\n",
    "media_arribos = 4\n",
    "media_unidad_1 = 0.7\n",
    "media_unidad_2 = 1\n",
    "\n",
    "arribos = []\n",
    "arribo = 0\n",
    "ultimo_procesamiento_1 = 0\n",
    "ultimo_procesamiento_2 = 0\n",
    "solicitudes_sin_espera = 0\n",
    "tiempo_espera = []\n",
    "tiempo_total_diagnostico = 0\n",
    "\n",
    "for i in range(numero_solicitudes):\n",
    "    z = np.random.exponential(media_arribos)\n",
    "    arribo += z\n",
    "    arribos.append(arribo)\n",
    "    \n",
    "for arribo in arribos:\n",
    "    \n",
    "    n = np.random.rand()\n",
    "    if n < 0.6:\n",
    "        #UNIDAD 1\n",
    "        tiempo = np.random.exponential(media_unidad_1)\n",
    "        if ultimo_procesamiento_1 <= arribo:\n",
    "            tiempo_espera.append(0)\n",
    "            solicitudes_sin_espera += 1\n",
    "            tiempo_total_diagnostico += tiempo\n",
    "            ultimo_procesamiento_1 = arribo + tiempo\n",
    "        else:\n",
    "            tiempo_espera.append(ultimo_procesamiento_1 - arribo)\n",
    "            tiempo_total_diagnostico += ultimo_procesamiento_1 - arribo + tiempo\n",
    "            ultimo_procesamiento_1 += tiempo\n",
    "    else:\n",
    "        #UNIDAD 2\n",
    "        tiempo = np.random.exponential(media_unidad_2)\n",
    "        if ultimo_procesamiento_2 <= arribo:\n",
    "            tiempo_espera.append(0)\n",
    "            solicitudes_sin_espera += 1\n",
    "            tiempo_total_diagnostico += tiempo\n",
    "            ultimo_procesamiento_2 = arribo + tiempo\n",
    "        else:\n",
    "            tiempo_espera.append(ultimo_procesamiento_2 - arribo)\n",
    "            tiempo_total_diagnostico += ultimo_procesamiento_2 - arribo + tiempo\n",
    "            ultimo_procesamiento_2 += tiempo\n",
    "        \n",
    "print(\"Tiempo medio de espera: \", np.mean(tiempo_espera))\n",
    "print(\"Fracción de solicitudes que no esperaron para ser procesadas: \", (solicitudes_sin_espera / numero_solicitudes) * 100, \"%\")\n",
    "print(\"Tiempo medio en resolver un diagnóstico: \", tiempo_total_diagnostico / numero_solicitudes)\n",
    "print(\"Tiempo total: \", np.max([ultimo_procesamiento_1, ultimo_procesamiento_2]))\n",
    "\n",
    "plt.step(arribos, range(numero_solicitudes))\n",
    "plt.title('Proveedor 1: Arribos en las primeras 100 horas', fontsize=12)\n",
    "plt.axis((0, 100, 0, 25))\n",
    "plt.show()"
   ]
  },
  {
   "cell_type": "code",
   "execution_count": 45,
   "metadata": {},
   "outputs": [
    {
     "name": "stdout",
     "output_type": "stream",
     "text": [
      "Tiempo medio de espera:  0.20370026862964474\n",
      "Fracción de solicitudes que no esperaron para ser procesadas:  79.82000000000001 %\n",
      "Tiempo medio en resolver un diagnóstico:  1.0085962131874218\n",
      "Tiempo total:  399872.6683935353\n"
     ]
    },
    {
     "data": {
      "image/png": "[encoded data removed]",
      "text/plain": [
       "<Figure size 432x288 with 1 Axes>"
      ]
     },
     "metadata": {
      "needs_background": "light"
     },
     "output_type": "display_data"
    }
   ],
   "source": [
    "#PROVEEDOR 2\n",
    "\n",
    "np.random.seed(0)\n",
    "\n",
    "numero_solicitudes = 100000\n",
    "media_arribos = 4\n",
    "media_unidad = 0.8\n",
    "\n",
    "arribos = []\n",
    "arribo = 0\n",
    "ultimo_procesamiento = 0\n",
    "solicitudes_sin_espera = 0\n",
    "tiempo_espera = []\n",
    "tiempo_total_diagnostico = 0\n",
    "\n",
    "for i in range(numero_solicitudes):\n",
    "    z = np.random.exponential(media_arribos)\n",
    "    arribo += z\n",
    "    arribos.append(arribo)\n",
    "    \n",
    "for arribo in arribos:\n",
    "    \n",
    "    tiempo = np.random.exponential(media_unidad)\n",
    "    if ultimo_procesamiento <= arribo:\n",
    "        tiempo_espera.append(0)\n",
    "        solicitudes_sin_espera += 1\n",
    "        tiempo_total_diagnostico += tiempo\n",
    "        ultimo_procesamiento = arribo + tiempo\n",
    "    else:\n",
    "        tiempo_espera.append(ultimo_procesamiento - arribo)\n",
    "        tiempo_total_diagnostico += ultimo_procesamiento - arribo + tiempo\n",
    "        ultimo_procesamiento += tiempo  \n",
    "        \n",
    "print(\"Tiempo medio de espera: \", np.mean(tiempo_espera))\n",
    "print(\"Fracción de solicitudes que no esperaron para ser procesadas: \", (solicitudes_sin_espera / numero_solicitudes) * 100, \"%\")\n",
    "print(\"Tiempo medio en resolver un diagnóstico: \", tiempo_total_diagnostico / numero_solicitudes)\n",
    "print(\"Tiempo total: \", ultimo_procesamiento)\n",
    "\n",
    "plt.step(arribos, range(numero_solicitudes))\n",
    "plt.title('Proveedor 2: Arribos en las primeras 100 horas', fontsize=12)\n",
    "plt.axis((0, 100, 0, 25))\n",
    "plt.show()"
   ]
  },
  {
   "cell_type": "code",
   "execution_count": null,
   "metadata": {},
   "outputs": [],
   "source": []
  },
  {
   "cell_type": "code",
   "execution_count": null,
   "metadata": {},
   "outputs": [],
   "source": []
  }
 ],
 "metadata": {
  "kernelspec": {
   "display_name": "Python 3",
   "language": "python",
   "name": "python3"
  },
  "language_info": {
   "codemirror_mode": {
    "name": "ipython",
    "version": 3
   },
   "file_extension": ".py",
   "mimetype": "text/x-python",
   "name": "python",
   "nbconvert_exporter": "python",
   "pygments_lexer": "ipython3",
   "version": "3.7.3"
  }
 },
 "nbformat": 4,
 "nbformat_minor": 4
}
