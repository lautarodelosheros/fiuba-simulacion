{
 "cells": [
  {
   "cell_type": "code",
   "execution_count": 1,
   "metadata": {},
   "outputs": [],
   "source": [
    "import numpy as np\n",
    "import matplotlib as matplotlib\n",
    "import matplotlib.pyplot as plt\n",
    "import seaborn as sns\n",
    "from math import log, sqrt, exp, pi, cos\n",
    "import scipy as scipy"
   ]
  },
  {
   "cell_type": "markdown",
   "metadata": {},
   "source": [
    "### Generamos los valores aceptados del ejercicio 4"
   ]
  },
  {
   "cell_type": "code",
   "execution_count": 2,
   "metadata": {},
   "outputs": [],
   "source": [
    "N = 100000 # muestras aceptadas a obtener\n",
    "MU = 25\n",
    "DESV = 2\n",
    "\n",
    "# como vamos a generar normales(0,1), podemos usar el método de\n",
    "# aceptacion y rechazo con una exponencial(1)\n",
    "def fexp(t):\n",
    "    return exp(-t)\n",
    "\n",
    "# usamos funcion densidad normal(0,1), luego transformaremos a N(25,4)\n",
    "# mediante la inversa del método de normalización de normales\n",
    "def fnorm(t):\n",
    "    return exp(-((t**2)/2))/(sqrt(2*pi))\n",
    "\n",
    "# el c resultante para generar N(0,1) desde EXP(1)\n",
    "c = sqrt(2*exp(1)/pi)\n",
    "\n",
    "# los valores aceptados a guardar\n",
    "simulated_normal = []\n",
    "i = 0\n",
    "necesarios = 0\n",
    "\n",
    "# como una normal X se estandariza a una Z~N(0,1) con Z=(X-μ)/σ entonces X=Z*σ+μ\n",
    "while(i < N):\n",
    "    necesarios += 1\n",
    "    randexp = np.random.exponential(1)\n",
    "    rand1 = np.random.uniform()\n",
    "    rand2 = np.random.uniform()\n",
    "    \n",
    "    if(rand1 < (fnorm(randexp) / (c*fexp(randexp)))):\n",
    "        if(rand2 > 0.5):\n",
    "            simulated_normal.append(randexp * DESV + MU)\n",
    "        else:\n",
    "            simulated_normal.append(-randexp * DESV + MU)\n",
    "        i += 1"
   ]
  },
  {
   "cell_type": "markdown",
   "metadata": {},
   "source": [
    "### Ahora si, procedemos con el ejercicio 7"
   ]
  },
  {
   "cell_type": "code",
   "execution_count": 3,
   "metadata": {},
   "outputs": [],
   "source": [
    "simulated_normal.sort() # ordenamos en forma ascendente así no usamos explicitamente\n",
    "# la funcion acumulada empírica de nuestra muestra Fn(x)\n",
    "\n",
    "ALPHA = 0.01 # nivel de significacion\n",
    "\n",
    "def F(x): # acumulada de distribucion teórica esperada\n",
    "    return scipy.stats.norm.cdf(x, MU, DESV)"
   ]
  },
  {
   "cell_type": "code",
   "execution_count": 4,
   "metadata": {},
   "outputs": [],
   "source": [
    "j = 0\n",
    "DesvPorAbajo = []\n",
    "for xj in simulated_normal:\n",
    "    j = j + 1\n",
    "    DesvPorAbajo.append((j/N)-F(xj))"
   ]
  },
  {
   "cell_type": "code",
   "execution_count": 5,
   "metadata": {},
   "outputs": [],
   "source": [
    "j = 0\n",
    "DesvPorArriba = []\n",
    "for xj in simulated_normal:\n",
    "    j = j + 1\n",
    "    DesvPorArriba.append(F(xj)-((j-1)/N))"
   ]
  },
  {
   "cell_type": "code",
   "execution_count": 6,
   "metadata": {},
   "outputs": [
    {
     "name": "stdout",
     "output_type": "stream",
     "text": [
      "0.6526686237958872\n"
     ]
    }
   ],
   "source": [
    "KnMayor = sqrt(N) * np.max(DesvPorAbajo)\n",
    "KnMenor = sqrt(N) * np.max(DesvPorArriba)\n",
    "\n",
    "K = np.max([KnMayor, KnMenor])\n",
    "\n",
    "print(K)"
   ]
  },
  {
   "cell_type": "code",
   "execution_count": 7,
   "metadata": {},
   "outputs": [
    {
     "data": {
      "text/plain": [
       "1.6276236307187293"
      ]
     },
     "execution_count": 7,
     "metadata": {},
     "output_type": "execute_result"
    }
   ],
   "source": [
    "valorCritico = sqrt(-((log(ALPHA/2))/2))\n",
    "valorCritico"
   ]
  },
  {
   "cell_type": "markdown",
   "metadata": {},
   "source": [
    "### Como K=0.6526686237958872 < 1.6276236307187293=Kα\n",
    "    Aceptamos (no rechazamos) la hipótesis de que la distribución generada en el ejercicio 4 correspondía a una N~(25,4)"
   ]
  },
  {
   "cell_type": "code",
   "execution_count": 8,
   "metadata": {},
   "outputs": [],
   "source": [
    "python_normal = np.random.normal(MU, DESV, size = N)"
   ]
  },
  {
   "cell_type": "code",
   "execution_count": 22,
   "metadata": {},
   "outputs": [
    {
     "data": {
      "text/plain": [
       "[(19, 30)]"
      ]
     },
     "execution_count": 22,
     "metadata": {},
     "output_type": "execute_result"
    },
    {
     "data": {
      "image/png": "[encoded data removed]",
      "text/plain": [
       "<Figure size 576x432 with 1 Axes>"
      ]
     },
     "metadata": {},
     "output_type": "display_data"
    }
   ],
   "source": [
    "sns.set(rc={'figure.figsize':(8,6)}, style=\"whitegrid\")\n",
    "\n",
    "sns.distplot(simulated_normal, kde_kws={'visible':False}, hist_kws={'cumulative':True,'histtype':'step', 'alpha':1}, color=\"coral\", label=\"acumulada empirica\")\n",
    "plot = sns.kdeplot(python_normal, cumulative=True, linewidth=2, alpha=1, color=\"lightblue\", label=\"acumulada esperada\")\n",
    "\n",
    "plt.ylabel('probabilidad acumulada')\n",
    "plt.xlabel('valores')\n",
    "plt.legend()\n",
    "plot.set(xlim=(19, 30))"
   ]
  }
 ],
 "metadata": {
  "kernelspec": {
   "display_name": "Python 3",
   "language": "python",
   "name": "python3"
  },
  "language_info": {
   "codemirror_mode": {
    "name": "ipython",
    "version": 3
   },
   "file_extension": ".py",
   "mimetype": "text/x-python",
   "name": "python",
   "nbconvert_exporter": "python",
   "pygments_lexer": "ipython3",
   "version": "3.7.6"
  }
 },
 "nbformat": 4,
 "nbformat_minor": 4
}
