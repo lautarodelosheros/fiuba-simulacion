{
 "cells": [
  {
   "cell_type": "code",
   "execution_count": 1,
   "metadata": {},
   "outputs": [],
   "source": [
    "import matplotlib.pyplot as plt\n",
    "import matplotlib.animation as animation\n",
    "from enum import Enum\n",
    "import random"
   ]
  },
  {
   "cell_type": "code",
   "execution_count": 2,
   "metadata": {},
   "outputs": [],
   "source": [
    "class Directions(Enum):\n",
    "    UP = 0, 1,\n",
    "    DOWN = 0, -1,\n",
    "    LEFT = -1, 0,\n",
    "    RIGHT = 1, 0,\n",
    "    NONE = 0, 0\n",
    "\n",
    "class Tile(Enum):\n",
    "    NONE = 0,\n",
    "    WALL = 1\n",
    "\n",
    "class Particle:\n",
    "    def __init__(self, x, y, color):\n",
    "        self.column = x\n",
    "        self.row = y\n",
    "        self.color = color\n",
    "\n",
    "    def move(self, available_map):\n",
    "        direction = random.choice(list(Directions))\n",
    "\n",
    "        next_column, next_row = self.column + direction.value[0], self.row + direction.value[1]\n",
    "\n",
    "        if available_map.position_is_available(next_column, next_row):\n",
    "            self.column = next_column\n",
    "            self.row = next_row\n",
    "\n",
    "    def get_color(self):\n",
    "        return self.color\n",
    "\n",
    "    def __str__(self):\n",
    "        return \"Pos: [\" + str(self.row) + \", \" + str(self.column) + \"]\"\n",
    "    \n",
    "class Map:\n",
    "    def __init__(self, columns, rows):\n",
    "        self.columns = columns + 3\n",
    "        self.rows = rows + 2\n",
    "        self.map = [[Tile.NONE for x in range(self.columns)] for y in\n",
    "                    range(self.rows)]\n",
    "\n",
    "        for x in range(self.columns):\n",
    "            self.map[0][x] = Tile.WALL\n",
    "        for x in range(self.rows):\n",
    "            self.map[x][0] = Tile.WALL\n",
    "        for x in range(self.columns):\n",
    "            self.map[- 1][x] = Tile.WALL\n",
    "        for x in range(self.rows):\n",
    "            self.map[x][-1] = Tile.WALL\n",
    "\n",
    "        self.wall_column = self.columns // 2\n",
    "\n",
    "        for x in range(self.rows):\n",
    "            self.map[x][self.wall_column] = Tile.WALL\n",
    "\n",
    "    def position_is_available(self, column, row):\n",
    "        return self.map[row][column] != Tile.WALL\n",
    "\n",
    "    def remove_wall(self, lower_half=False):\n",
    "        if not lower_half:\n",
    "            for x in range(1, self.rows // 2):\n",
    "                self.map[x][self.wall_column] = Tile.NONE\n",
    "        for x in range(self.rows // 2, self.rows - 1):\n",
    "            self.map[x][self.wall_column] = Tile.NONE\n",
    "\n",
    "    def __str__(self):\n",
    "        return self.map.__str__()\n",
    "\n",
    "    "
   ]
  },
  {
   "cell_type": "code",
   "execution_count": 3,
   "metadata": {},
   "outputs": [
    {
     "data": {
      "image/png": "[encoded data removed]",
      "text/plain": [
       "<Figure size 432x288 with 1 Axes>"
      ]
     },
     "metadata": {
      "needs_background": "light"
     },
     "output_type": "display_data"
    }
   ],
   "source": [
    "x = 0\n",
    "y = 0\n",
    "x_data = []\n",
    "y_data = []\n",
    "\n",
    "fig = plt.figure()\n",
    "ax1 = plt.axes(xlim=(0, 50), ylim=(0, 50))\n",
    "mat, = ax1.plot([], [], linewidth=0, color='b', marker='o', markersize=\"4\")\n",
    "line, = ax1.plot(0, 0, color='b', lw=1.1, ls='dashed', markersize=\"0\")\n",
    "\n",
    "frames = 1000\n",
    "\n",
    "particle = Particle(25, 25, 'b')\n",
    "available_map = Map(50, 50)\n",
    "\n",
    "\n",
    "def animate_rw(i):\n",
    "    column = particle.column\n",
    "    row = particle.row\n",
    "\n",
    "    x_data.append(column)\n",
    "    y_data.append(row)\n",
    "    mat.set_data([column], [row])\n",
    "    line.set_xdata(x_data)\n",
    "    line.set_ydata(y_data)\n",
    "\n",
    "    particle.move(available_map)\n",
    "\n",
    "    return mat, line,\n",
    "\n",
    "\n",
    "anim = animation.FuncAnimation(fig, animate_rw, interval=100, blit=True, frames=frames, repeat=False)\n",
    "# plt.show()\n",
    "\n",
    "Writer = animation.writers['ffmpeg']\n",
    "writer = Writer(fps=60, metadata=dict(artist='Me'), bitrate=1800)\n",
    "\n",
    "anim.save('ej-8.mp4', writer=writer)"
   ]
  },
  {
   "cell_type": "code",
   "execution_count": null,
   "metadata": {},
   "outputs": [],
   "source": []
  }
 ],
 "metadata": {
  "kernelspec": {
   "display_name": "Python 3",
   "language": "python",
   "name": "python3"
  },
  "language_info": {
   "codemirror_mode": {
    "name": "ipython",
    "version": 3
   },
   "file_extension": ".py",
   "mimetype": "text/x-python",
   "name": "python",
   "nbconvert_exporter": "python",
   "pygments_lexer": "ipython3",
   "version": "3.7.6"
  }
 },
 "nbformat": 4,
 "nbformat_minor": 4
}
